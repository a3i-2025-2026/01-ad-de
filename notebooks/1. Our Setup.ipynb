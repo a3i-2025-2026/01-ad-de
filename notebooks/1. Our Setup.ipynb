{
 "cells": [
  {
   "cell_type": "markdown",
   "metadata": {
    "slideshow": {
     "slide_type": "slide"
    }
   },
   "source": [
    "# Methods and Tools"
   ]
  },
  {
   "cell_type": "markdown",
   "metadata": {
    "slideshow": {
     "slide_type": "slide"
    }
   },
   "source": [
    "## Interactive Lectures\n",
    "\n",
    "**All lectures in the course will be _interactive_**\n",
    "\n",
    "They contain running code, as well as theory!\n",
    "\n",
    "* Presented and discussed in frontal lectures...\n",
    "* ...You can download PDFs\n",
    "* ...But you will also be able to _make changes and experiment_"
   ]
  },
  {
   "cell_type": "markdown",
   "metadata": {},
   "source": [
    "**From a software perspective, the workshorses of this approach are:**\n",
    "\n",
    "* [Jupyter](https://jupyter.org) notebooks for the presentation & interaction\n",
    "* [Poetry](https://python-poetry.org) dependency and virtual environment manager\n",
    "\n",
    "You can read more about poetry in the online documentation\n",
    "\n",
    "**If you don't like poetry, a `requirements.txt` file is also included in each lecture**"
   ]
  },
  {
   "cell_type": "markdown",
   "metadata": {
    "slideshow": {
     "slide_type": "subslide"
    }
   },
   "source": [
    "## Our Setup\n",
    "\n",
    "**We will often work with this development setup**\n",
    "\n",
    "Every lecture will be structured as follows:\n",
    "\n",
    "```\n",
    "data             <-- datasets\n",
    "notebooks        <-- notebooks and code\n",
    "pdfs             <-- PDF notes\n",
    "LICENSE          <-- license file\n",
    "README.md        <-- usage instructions\n",
    "requirements.txt <-- dependencies, in classical format\n",
    "pyproject.toml   <-- main poetry configuration file\n",
    "poetry.lock      <-- specific package versions, for poetry\n",
    "```"
   ]
  },
  {
   "cell_type": "markdown",
   "metadata": {
    "slideshow": {
     "slide_type": "subslide"
    }
   },
   "source": [
    "## Our Setup\n",
    "\n",
    "**The notebook folder in turn will be structured as:**\n",
    "\n",
    "```\n",
    "notebook1.pynb\n",
    "notebook2.pynb\n",
    "...\n",
    "util     <-- module\n",
    "assets   <-- images and such\n",
    "rise.css <-- for the \"slide\" mode\n",
    "```"
   ]
  },
  {
   "cell_type": "markdown",
   "metadata": {
    "slideshow": {
     "slide_type": "subslide"
    }
   },
   "source": [
    "## Our Setup\n",
    "\n",
    "**The notebook folder in turn will be structured as:**\n",
    "\n",
    "```\n",
    "notebook1.pynb\n",
    "notebook2.pynb\n",
    "...\n",
    "util +-- __init__.py\n",
    "     +-- XYZ.py       <-- submodule\n",
    "     +-- YZX.py       <-- submodule\n",
    "     +-- ...\n",
    "font\n",
    "rise.css\n",
    "```\n",
    "\n",
    "**The most important part:** we'll use _modules_ besides notebooks"
   ]
  },
  {
   "cell_type": "markdown",
   "metadata": {
    "slideshow": {
     "slide_type": "subslide"
    }
   },
   "source": [
    "## Our Setup\n",
    "\n",
    "**Working with modules provides some advantages:**\n",
    "\n",
    "We do not need to keep all our code in the notebooks. We can:\n",
    "\n",
    "* _Share_ functions _between cells_\n",
    "* _Share_ functions _between notebooks_\n",
    "* IDEs can offer _more functionality_ if they recognize a module\n",
    "\n",
    "**...But also a significant disadvantage:**\n",
    "\n",
    "* Python modules are compiled first when loaded...\n",
    "* ...The loaded version is _not updated_ when the source changes\n",
    "\n",
    "This is very inconvenient at development time"
   ]
  },
  {
   "cell_type": "markdown",
   "metadata": {
    "slideshow": {
     "slide_type": "subslide"
    }
   },
   "source": [
    "## Our Setup\n",
    "\n",
    "**We can circumvent this thanks to Jupyter \"magic\" extensions**\n",
    "\n",
    "The first one is [the \"autoreload\" extension](https://ipython.org/ipython-doc/3/config/extensions/autoreload.html)"
   ]
  },
  {
   "cell_type": "code",
   "execution_count": 1,
   "metadata": {
    "slideshow": {
     "slide_type": "-"
    }
   },
   "outputs": [],
   "source": [
    "%load_ext autoreload\n",
    "%autoreload 2"
   ]
  },
  {
   "cell_type": "markdown",
   "metadata": {},
   "source": [
    "\n",
    "* `load_ext` will enable the extension\n",
    "* `autoreload 2` will reload all modules before code execution\n",
    "\n",
    "**This is _inefficient, but convenient_ during development**\n",
    "\n",
    "* Together with the use of volumes (in docker-compose)...\n",
    "* ...This allows us to update the code without re-building the docker image\n"
   ]
  }
 ],
 "metadata": {
  "celltoolbar": "Slideshow",
  "kernelspec": {
   "display_name": "Python 3 (ipykernel)",
   "language": "python",
   "name": "python3"
  },
  "language_info": {
   "codemirror_mode": {
    "name": "ipython",
    "version": 3
   },
   "file_extension": ".py",
   "mimetype": "text/x-python",
   "name": "python",
   "nbconvert_exporter": "python",
   "pygments_lexer": "ipython3",
   "version": "3.12.11"
  },
  "rise": {
   "center": false,
   "transition": "fade"
  },
  "widgets": {
   "application/vnd.jupyter.widget-state+json": {
    "state": {},
    "version_major": 2,
    "version_minor": 0
   }
  }
 },
 "nbformat": 4,
 "nbformat_minor": 4
}
