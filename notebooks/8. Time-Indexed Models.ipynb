{
 "cells": [
  {
   "cell_type": "code",
   "execution_count": 1,
   "metadata": {
    "slideshow": {
     "slide_type": "skip"
    }
   },
   "outputs": [],
   "source": [
    "# ============================================================\n",
    "# Notebook setup: run this before everything\n",
    "# ============================================================\n",
    "\n",
    "%load_ext autoreload\n",
    "%autoreload 2\n",
    "\n",
    "# Control figure size\n",
    "figsize=(14, 4)\n",
    "\n",
    "from sklearn.neighbors import KernelDensity\n",
    "from sklearn.model_selection import GridSearchCV\n",
    "from util import util\n",
    "import numpy as np\n",
    "from matplotlib import pyplot as plt\n",
    "import pandas as pd\n",
    "import os\n",
    "\n",
    "# Load data\n",
    "data_folder = os.path.join('..', 'data', 'nab')\n",
    "file_name = os.path.join('realKnownCause', 'nyc_taxi.csv')\n",
    "data, labels, windows = util.load_series(file_name, data_folder)\n",
    "\n",
    "# Train and validation end\n",
    "train_end = pd.to_datetime('2014-10-24 00:00:00')\n",
    "val_end = pd.to_datetime('2014-12-10 00:00:00')\n",
    "\n",
    "# Cost model parameters\n",
    "c_alrm = 1 # Cost of investigating a false alarm\n",
    "c_missed = 10 # Cost of missing an anomaly\n",
    "c_late = 5 # Cost for late detection\n",
    "\n",
    "# Build a cost model\n",
    "cmodel = util.ADSimpleCostModel(c_alrm, c_missed, c_late)\n",
    "\n",
    "# Compute the maximum over the training set\n",
    "trmax = data[data.index < train_end]['value'].max()\n",
    "# Normalize\n",
    "data['value'] = data['value'] / trmax\n",
    "# Separate the training data\n",
    "data_tr = data[data.index < train_end]\n",
    "\n",
    "# Apply a sliding window\n",
    "wdata = util.sliding_window_1D(data, wlen=10)"
   ]
  },
  {
   "cell_type": "markdown",
   "metadata": {
    "slideshow": {
     "slide_type": "slide"
    }
   },
   "source": [
    "# Time Indexed Models"
   ]
  },
  {
   "cell_type": "markdown",
   "metadata": {
    "slideshow": {
     "slide_type": "subslide"
    }
   },
   "source": [
    "## Exploiting Time\n",
    "\n",
    "**Let's consider how we dealt with time so far**\n",
    "\n",
    "* We learned an estimator for $f(t, x)$ and one for $f(t)$\n",
    "* ...Which we used to compute $f(x \\mid t) = f(t, x) / f(t)$\n",
    "\n",
    "It worked well, but we had to introduce one additional dimension\n",
    "\n",
    "> **What if we wanted to consider time _and_ sequence input?**"
   ]
  },
  {
   "cell_type": "markdown",
   "metadata": {
    "slideshow": {
     "slide_type": "fragment"
    }
   },
   "source": [
    "**Let's consider a second approach to handle time**\n",
    "\n",
    "* This consists in _learning many density estimators_:\n",
    "* Each estimator is _specialized for a given time_ (e.g. 00:00, 00:30, 01:00...)\n",
    "\n",
    "We can then choose which estimator to use based on the current time"
   ]
  },
  {
   "cell_type": "markdown",
   "metadata": {
    "slideshow": {
     "slide_type": "subslide"
    }
   },
   "source": [
    "## Exploiting Time\n",
    "\n",
    "**Formally, what we have is a first _ensemble model_**\n",
    "\n",
    "In particular, we obtain our estimated probabilities by evaluating:\n",
    "\n",
    "$$\n",
    "f_{g(t)}(x)\n",
    "$$\n",
    "\n",
    "* Each $f_i$ function is an estimator\n",
    "* The $g(t)$ retrieves the correct $f_i$ based (in our case) on the time value"
   ]
  },
  {
   "cell_type": "markdown",
   "metadata": {},
   "source": [
    "**We'll call this general idea a \"selection ensemble\"**\n",
    "\n",
    "In terms of properties:\n",
    "\n",
    "* Each $f_i$ estimator works with _smaller amounts of data_\n",
    "* ...But the individual problems are _easier_!"
   ]
  },
  {
   "cell_type": "markdown",
   "metadata": {
    "slideshow": {
     "slide_type": "subslide"
    }
   },
   "source": [
    "## Learning an Estimator for one Time Value\n",
    "\n",
    "**Let us make a test by learning an estimator for a single time value**\n",
    "\n",
    "First, we separate the training data"
   ]
  },
  {
   "cell_type": "code",
   "execution_count": 2,
   "metadata": {},
   "outputs": [
    {
     "data": {
      "text/html": [
       "<div>\n",
       "<style scoped>\n",
       "    .dataframe tbody tr th:only-of-type {\n",
       "        vertical-align: middle;\n",
       "    }\n",
       "\n",
       "    .dataframe tbody tr th {\n",
       "        vertical-align: top;\n",
       "    }\n",
       "\n",
       "    .dataframe thead th {\n",
       "        text-align: right;\n",
       "    }\n",
       "</style>\n",
       "<table border=\"1\" class=\"dataframe\">\n",
       "  <thead>\n",
       "    <tr style=\"text-align: right;\">\n",
       "      <th></th>\n",
       "      <th>0</th>\n",
       "      <th>1</th>\n",
       "      <th>2</th>\n",
       "      <th>3</th>\n",
       "      <th>4</th>\n",
       "      <th>5</th>\n",
       "      <th>6</th>\n",
       "      <th>7</th>\n",
       "      <th>8</th>\n",
       "      <th>9</th>\n",
       "    </tr>\n",
       "    <tr>\n",
       "      <th>timestamp</th>\n",
       "      <th></th>\n",
       "      <th></th>\n",
       "      <th></th>\n",
       "      <th></th>\n",
       "      <th></th>\n",
       "      <th></th>\n",
       "      <th></th>\n",
       "      <th></th>\n",
       "      <th></th>\n",
       "      <th></th>\n",
       "    </tr>\n",
       "  </thead>\n",
       "  <tbody>\n",
       "    <tr>\n",
       "      <th>2014-07-01 04:30:00</th>\n",
       "      <td>0.357028</td>\n",
       "      <td>0.267573</td>\n",
       "      <td>0.204458</td>\n",
       "      <td>0.153294</td>\n",
       "      <td>0.125770</td>\n",
       "      <td>0.094591</td>\n",
       "      <td>0.077997</td>\n",
       "      <td>0.067955</td>\n",
       "      <td>0.073124</td>\n",
       "      <td>0.071050</td>\n",
       "    </tr>\n",
       "    <tr>\n",
       "      <th>2014-07-01 05:00:00</th>\n",
       "      <td>0.267573</td>\n",
       "      <td>0.204458</td>\n",
       "      <td>0.153294</td>\n",
       "      <td>0.125770</td>\n",
       "      <td>0.094591</td>\n",
       "      <td>0.077997</td>\n",
       "      <td>0.067955</td>\n",
       "      <td>0.073124</td>\n",
       "      <td>0.071050</td>\n",
       "      <td>0.082804</td>\n",
       "    </tr>\n",
       "    <tr>\n",
       "      <th>2014-07-01 05:30:00</th>\n",
       "      <td>0.204458</td>\n",
       "      <td>0.153294</td>\n",
       "      <td>0.125770</td>\n",
       "      <td>0.094591</td>\n",
       "      <td>0.077997</td>\n",
       "      <td>0.067955</td>\n",
       "      <td>0.073124</td>\n",
       "      <td>0.071050</td>\n",
       "      <td>0.082804</td>\n",
       "      <td>0.143680</td>\n",
       "    </tr>\n",
       "    <tr>\n",
       "      <th>2014-07-01 06:00:00</th>\n",
       "      <td>0.153294</td>\n",
       "      <td>0.125770</td>\n",
       "      <td>0.094591</td>\n",
       "      <td>0.077997</td>\n",
       "      <td>0.067955</td>\n",
       "      <td>0.073124</td>\n",
       "      <td>0.071050</td>\n",
       "      <td>0.082804</td>\n",
       "      <td>0.143680</td>\n",
       "      <td>0.214862</td>\n",
       "    </tr>\n",
       "    <tr>\n",
       "      <th>2014-07-01 06:30:00</th>\n",
       "      <td>0.125770</td>\n",
       "      <td>0.094591</td>\n",
       "      <td>0.077997</td>\n",
       "      <td>0.067955</td>\n",
       "      <td>0.073124</td>\n",
       "      <td>0.071050</td>\n",
       "      <td>0.082804</td>\n",
       "      <td>0.143680</td>\n",
       "      <td>0.214862</td>\n",
       "      <td>0.363448</td>\n",
       "    </tr>\n",
       "  </tbody>\n",
       "</table>\n",
       "</div>"
      ],
      "text/plain": [
       "                            0         1         2         3         4  \\\n",
       "timestamp                                                               \n",
       "2014-07-01 04:30:00  0.357028  0.267573  0.204458  0.153294  0.125770   \n",
       "2014-07-01 05:00:00  0.267573  0.204458  0.153294  0.125770  0.094591   \n",
       "2014-07-01 05:30:00  0.204458  0.153294  0.125770  0.094591  0.077997   \n",
       "2014-07-01 06:00:00  0.153294  0.125770  0.094591  0.077997  0.067955   \n",
       "2014-07-01 06:30:00  0.125770  0.094591  0.077997  0.067955  0.073124   \n",
       "\n",
       "                            5         6         7         8         9  \n",
       "timestamp                                                              \n",
       "2014-07-01 04:30:00  0.094591  0.077997  0.067955  0.073124  0.071050  \n",
       "2014-07-01 05:00:00  0.077997  0.067955  0.073124  0.071050  0.082804  \n",
       "2014-07-01 05:30:00  0.067955  0.073124  0.071050  0.082804  0.143680  \n",
       "2014-07-01 06:00:00  0.073124  0.071050  0.082804  0.143680  0.214862  \n",
       "2014-07-01 06:30:00  0.071050  0.082804  0.143680  0.214862  0.363448  "
      ]
     },
     "execution_count": 2,
     "metadata": {},
     "output_type": "execute_result"
    }
   ],
   "source": [
    "wdata_tr = wdata[wdata.index < train_end]\n",
    "wdata_tr.head()"
   ]
  },
  {
   "cell_type": "markdown",
   "metadata": {},
   "source": [
    "* We'll use the normalized version\n",
    "* ...So as to simplify our guesses for bandwidth selection"
   ]
  },
  {
   "cell_type": "markdown",
   "metadata": {
    "slideshow": {
     "slide_type": "subslide"
    }
   },
   "source": [
    "## Learning an Estimator for one Time Value\n",
    "\n",
    "**Let us make a test by learning an estimator for a single time value**\n",
    "\n",
    "Then, we focus on the values for a single time value"
   ]
  },
  {
   "cell_type": "code",
   "execution_count": 3,
   "metadata": {},
   "outputs": [
    {
     "data": {
      "text/html": [
       "<div>\n",
       "<style scoped>\n",
       "    .dataframe tbody tr th:only-of-type {\n",
       "        vertical-align: middle;\n",
       "    }\n",
       "\n",
       "    .dataframe tbody tr th {\n",
       "        vertical-align: top;\n",
       "    }\n",
       "\n",
       "    .dataframe thead th {\n",
       "        text-align: right;\n",
       "    }\n",
       "</style>\n",
       "<table border=\"1\" class=\"dataframe\">\n",
       "  <thead>\n",
       "    <tr style=\"text-align: right;\">\n",
       "      <th></th>\n",
       "      <th>0</th>\n",
       "      <th>1</th>\n",
       "      <th>2</th>\n",
       "      <th>3</th>\n",
       "      <th>4</th>\n",
       "      <th>5</th>\n",
       "      <th>6</th>\n",
       "      <th>7</th>\n",
       "      <th>8</th>\n",
       "      <th>9</th>\n",
       "    </tr>\n",
       "    <tr>\n",
       "      <th>timestamp</th>\n",
       "      <th></th>\n",
       "      <th></th>\n",
       "      <th></th>\n",
       "      <th></th>\n",
       "      <th></th>\n",
       "      <th></th>\n",
       "      <th></th>\n",
       "      <th></th>\n",
       "      <th></th>\n",
       "      <th></th>\n",
       "    </tr>\n",
       "  </thead>\n",
       "  <tbody>\n",
       "    <tr>\n",
       "      <th>2014-07-01 04:30:00</th>\n",
       "      <td>0.357028</td>\n",
       "      <td>0.267573</td>\n",
       "      <td>0.204458</td>\n",
       "      <td>0.153294</td>\n",
       "      <td>0.125770</td>\n",
       "      <td>0.094591</td>\n",
       "      <td>0.077997</td>\n",
       "      <td>0.067955</td>\n",
       "      <td>0.073124</td>\n",
       "      <td>0.071050</td>\n",
       "    </tr>\n",
       "    <tr>\n",
       "      <th>2014-07-02 04:30:00</th>\n",
       "      <td>0.440194</td>\n",
       "      <td>0.327429</td>\n",
       "      <td>0.249267</td>\n",
       "      <td>0.194811</td>\n",
       "      <td>0.158694</td>\n",
       "      <td>0.119646</td>\n",
       "      <td>0.098541</td>\n",
       "      <td>0.083462</td>\n",
       "      <td>0.084615</td>\n",
       "      <td>0.081816</td>\n",
       "    </tr>\n",
       "    <tr>\n",
       "      <th>2014-07-03 04:30:00</th>\n",
       "      <td>0.416357</td>\n",
       "      <td>0.347743</td>\n",
       "      <td>0.277088</td>\n",
       "      <td>0.233694</td>\n",
       "      <td>0.191815</td>\n",
       "      <td>0.144306</td>\n",
       "      <td>0.107661</td>\n",
       "      <td>0.097060</td>\n",
       "      <td>0.103579</td>\n",
       "      <td>0.101307</td>\n",
       "    </tr>\n",
       "    <tr>\n",
       "      <th>2014-07-04 04:30:00</th>\n",
       "      <td>0.513318</td>\n",
       "      <td>0.473941</td>\n",
       "      <td>0.412702</td>\n",
       "      <td>0.373391</td>\n",
       "      <td>0.328581</td>\n",
       "      <td>0.276693</td>\n",
       "      <td>0.237053</td>\n",
       "      <td>0.216574</td>\n",
       "      <td>0.186251</td>\n",
       "      <td>0.147302</td>\n",
       "    </tr>\n",
       "    <tr>\n",
       "      <th>2014-07-05 04:30:00</th>\n",
       "      <td>0.578672</td>\n",
       "      <td>0.533006</td>\n",
       "      <td>0.475455</td>\n",
       "      <td>0.412702</td>\n",
       "      <td>0.362361</td>\n",
       "      <td>0.301287</td>\n",
       "      <td>0.263721</td>\n",
       "      <td>0.233629</td>\n",
       "      <td>0.210944</td>\n",
       "      <td>0.145557</td>\n",
       "    </tr>\n",
       "  </tbody>\n",
       "</table>\n",
       "</div>"
      ],
      "text/plain": [
       "                            0         1         2         3         4  \\\n",
       "timestamp                                                               \n",
       "2014-07-01 04:30:00  0.357028  0.267573  0.204458  0.153294  0.125770   \n",
       "2014-07-02 04:30:00  0.440194  0.327429  0.249267  0.194811  0.158694   \n",
       "2014-07-03 04:30:00  0.416357  0.347743  0.277088  0.233694  0.191815   \n",
       "2014-07-04 04:30:00  0.513318  0.473941  0.412702  0.373391  0.328581   \n",
       "2014-07-05 04:30:00  0.578672  0.533006  0.475455  0.412702  0.362361   \n",
       "\n",
       "                            5         6         7         8         9  \n",
       "timestamp                                                              \n",
       "2014-07-01 04:30:00  0.094591  0.077997  0.067955  0.073124  0.071050  \n",
       "2014-07-02 04:30:00  0.119646  0.098541  0.083462  0.084615  0.081816  \n",
       "2014-07-03 04:30:00  0.144306  0.107661  0.097060  0.103579  0.101307  \n",
       "2014-07-04 04:30:00  0.276693  0.237053  0.216574  0.186251  0.147302  \n",
       "2014-07-05 04:30:00  0.301287  0.263721  0.233629  0.210944  0.145557  "
      ]
     },
     "execution_count": 3,
     "metadata": {},
     "output_type": "execute_result"
    }
   ],
   "source": [
    "wdata_tr_test = wdata_tr.iloc[0::48] # 48 is the step\n",
    "wdata_tr_test.head()"
   ]
  },
  {
   "cell_type": "markdown",
   "metadata": {
    "slideshow": {
     "slide_type": "subslide"
    }
   },
   "source": [
    "## Learning a 23:30 Estimator\n",
    "\n",
    "**Then we proceed as usual**\n",
    "\n",
    "We choose a bandwidth:"
   ]
  },
  {
   "cell_type": "code",
   "execution_count": 4,
   "metadata": {},
   "outputs": [
    {
     "data": {
      "text/plain": [
       "{'bandwidth': np.float64(0.019473684210526317)}"
      ]
     },
     "execution_count": 4,
     "metadata": {},
     "output_type": "execute_result"
    }
   ],
   "source": [
    "grid = GridSearchCV(KernelDensity(kernel='gaussian'), {'bandwidth': np.linspace(0.01, 0.1, 20)}, cv = 5)\n",
    "grid.fit(wdata_tr_test)\n",
    "grid.best_params_"
   ]
  },
  {
   "cell_type": "markdown",
   "metadata": {},
   "source": [
    "Then we store the bandwidth in a variable:"
   ]
  },
  {
   "cell_type": "code",
   "execution_count": 5,
   "metadata": {},
   "outputs": [],
   "source": [
    "h = grid.best_params_['bandwidth']"
   ]
  },
  {
   "cell_type": "markdown",
   "metadata": {},
   "source": [
    "* For sake of simplicity, we'll use the same bandwidth for all estimators\n",
    "* Even if we should re-calibrate $h$ for each estimator in principle"
   ]
  },
  {
   "cell_type": "markdown",
   "metadata": {
    "slideshow": {
     "slide_type": "subslide"
    }
   },
   "source": [
    "## Learning the Ensemble\n",
    "\n",
    "**Now, we need to repeat the process for every unique time value**"
   ]
  },
  {
   "cell_type": "code",
   "execution_count": 6,
   "metadata": {},
   "outputs": [
    {
     "name": "stdout",
     "output_type": "stream",
     "text": [
      "Index([ 0.0,  0.5,  1.0,  1.5,  2.0,  2.5,  3.0,  3.5,  4.0,  4.5,  5.0,  5.5,\n",
      "        6.0,  6.5,  7.0,  7.5,  8.0,  8.5,  9.0,  9.5, 10.0, 10.5, 11.0, 11.5,\n",
      "       12.0, 12.5, 13.0, 13.5, 14.0, 14.5, 15.0, 15.5, 16.0, 16.5, 17.0, 17.5,\n",
      "       18.0, 18.5, 19.0, 19.5, 20.0, 20.5, 21.0, 21.5, 22.0, 22.5, 23.0, 23.5],\n",
      "      dtype='float64', name='timestamp')\n"
     ]
    }
   ],
   "source": [
    "day_hours = data_tr.index.hour + data_tr.index.minute / 60\n",
    "day_hours = day_hours.unique()\n",
    "print(day_hours)"
   ]
  },
  {
   "cell_type": "markdown",
   "metadata": {},
   "source": [
    "* `unique` in pandas returns a `Series` with all unique values\n",
    "* We do not care about how time is measured\n",
    "* ...We only care about having 48 discrete steps"
   ]
  },
  {
   "cell_type": "markdown",
   "metadata": {
    "slideshow": {
     "slide_type": "subslide"
    }
   },
   "source": [
    "## Learning the Ensemble\n",
    "\n",
    "**Finally, we can learn 48 specialized estimators**"
   ]
  },
  {
   "cell_type": "code",
   "execution_count": 7,
   "metadata": {},
   "outputs": [],
   "source": [
    "kde = {}\n",
    "for hidx, hour in enumerate(day_hours):\n",
    "    tmp_data = wdata_tr.iloc[hidx::48]\n",
    "    kde[hour] = KernelDensity(kernel='gaussian', bandwidth=h)\n",
    "    kde[hour].fit(tmp_data)"
   ]
  },
  {
   "cell_type": "markdown",
   "metadata": {},
   "source": [
    "* For each unique time value, we separate a subset of the _training_ data\n",
    "* Then we build and learn a KDE estimator\n",
    "\n",
    "**We chose to store everything in a dictionary:**"
   ]
  },
  {
   "cell_type": "code",
   "execution_count": 8,
   "metadata": {},
   "outputs": [
    {
     "name": "stdout",
     "output_type": "stream",
     "text": [
      "{0.0: KernelDensity(bandwidth=np.float64(0.019473684210526317)), 0.5: KernelDensity(bandwidth=np.float64(0.019473684210526317)), 1.0: KernelDensity(bandwidth=np.float64(0.019473684210526317)), 1.5: KernelDensity(bandwidth=np.float64(0.019473684210526317)), ...}\n"
     ]
    }
   ],
   "source": [
    "print(str(kde)[:256], '...}')"
   ]
  },
  {
   "cell_type": "markdown",
   "metadata": {
    "slideshow": {
     "slide_type": "subslide"
    }
   },
   "source": [
    "## Generating the Signal\n",
    "\n",
    "**The we can generate the alarm signal**\n",
    "\n",
    "* In a practical implementation we should do this step by step\n",
    "* ...But for an evaluation purpose it is easier to do it all at once"
   ]
  },
  {
   "cell_type": "code",
   "execution_count": 9,
   "metadata": {},
   "outputs": [],
   "source": [
    "ldens_list = []\n",
    "for hidx, hour in enumerate(day_hours):\n",
    "    tmp_data = wdata.iloc[hidx::48]\n",
    "    tmp_ldens = kde[hour].score_samples(tmp_data)\n",
    "    tmp_ldens = pd.Series(index=tmp_data.index, data=tmp_ldens)\n",
    "    ldens_list.append(tmp_ldens)"
   ]
  },
  {
   "cell_type": "markdown",
   "metadata": {},
   "source": [
    "* For each unique time value, we separate a subset of the _whole_ data\n",
    "* Then we obtain the estimated (log) probabilities\n",
    "\n",
    "The process is even faster than before\n",
    "\n",
    "* ...Because each KDE estimator is trained a smaller dataset"
   ]
  },
  {
   "cell_type": "markdown",
   "metadata": {
    "slideshow": {
     "slide_type": "subslide"
    }
   },
   "source": [
    "## Generating the Signal\n",
    "\n",
    "**All signals are stored in a list**\n",
    "\n",
    "* We need to concatenate them all in single `DataFrame`\n",
    "* Then we can sort all rows by timestamp (it's the index)"
   ]
  },
  {
   "cell_type": "code",
   "execution_count": 10,
   "metadata": {},
   "outputs": [
    {
     "data": {
      "text/plain": [
       "timestamp\n",
       "2014-07-01 04:30:00   -27.059255\n",
       "2014-07-01 05:00:00   -27.505901\n",
       "2014-07-01 05:30:00   -27.741645\n",
       "2014-07-01 06:00:00   -27.925602\n",
       "2014-07-01 06:30:00   -27.657585\n",
       "dtype: float64"
      ]
     },
     "execution_count": 10,
     "metadata": {},
     "output_type": "execute_result"
    }
   ],
   "source": [
    "ldens = pd.concat(ldens_list, axis=0)\n",
    "ldens = ldens.sort_index()\n",
    "signal = -ldens\n",
    "signal.head()"
   ]
  },
  {
   "cell_type": "markdown",
   "metadata": {},
   "source": [
    "**A suggestion: always do concatenations in a single step in `pandas`**\n",
    "\n",
    "It's way faster than appending `DataFrame` objects one by one"
   ]
  },
  {
   "cell_type": "markdown",
   "metadata": {
    "slideshow": {
     "slide_type": "subslide"
    }
   },
   "source": [
    "## Generating the Signal\n",
    "\n",
    "**Now we can plot out signal:**"
   ]
  },
  {
   "cell_type": "code",
   "execution_count": 11,
   "metadata": {},
   "outputs": [
    {
     "data": {
      "image/png": "[encoded data removed]",
      "text/plain": [
       "<Figure size 1400x400 with 1 Axes>"
      ]
     },
     "metadata": {},
     "output_type": "display_data"
    }
   ],
   "source": [
    "util.plot_series(signal, labels=labels, windows=windows, figsize=figsize)"
   ]
  },
  {
   "cell_type": "markdown",
   "metadata": {},
   "source": [
    "* It's very similar to that of the other time-based model\n",
    "* ...But also a bit smoother, like that of the sequence-based model"
   ]
  },
  {
   "cell_type": "markdown",
   "metadata": {
    "slideshow": {
     "slide_type": "subslide"
    }
   },
   "source": [
    "## Threshold Optimization and Evaluation\n",
    "\n",
    "**Now we can optimize the threshold and evaluate the results**"
   ]
  },
  {
   "cell_type": "code",
   "execution_count": 12,
   "metadata": {},
   "outputs": [
    {
     "name": "stdout",
     "output_type": "stream",
     "text": [
      "Best threshold: 104.04040404040404, corresponding cost: 10\n"
     ]
    }
   ],
   "source": [
    "signal_opt = signal[signal.index < val_end]\n",
    "labels_opt = labels[labels < val_end]\n",
    "windows_opt = windows[windows['end'] < val_end]\n",
    "thr_range = np.linspace(10, 200, 100)\n",
    "\n",
    "best_thr, best_cost = util.opt_thr(signal_opt, labels_opt, windows_opt, cmodel, thr_range)\n",
    "print(f'Best threshold: {best_thr}, corresponding cost: {best_cost}')"
   ]
  },
  {
   "cell_type": "markdown",
   "metadata": {},
   "source": [
    "Let us see the cost on the whole dataset:"
   ]
  },
  {
   "cell_type": "code",
   "execution_count": 13,
   "metadata": {},
   "outputs": [
    {
     "name": "stdout",
     "output_type": "stream",
     "text": [
      "Cost on the whole dataset 10\n"
     ]
    }
   ],
   "source": [
    "ctst = cmodel.cost(signal, labels, windows, best_thr)\n",
    "print(f'Cost on the whole dataset {ctst}')"
   ]
  },
  {
   "cell_type": "markdown",
   "metadata": {},
   "source": [
    "This is the best result we have achieved so far!"
   ]
  },
  {
   "cell_type": "markdown",
   "metadata": {
    "slideshow": {
     "slide_type": "subslide"
    }
   },
   "source": [
    "<div class=big>What if we used this approach for the second period?</div>"
   ]
  }
 ],
 "metadata": {
  "celltoolbar": "Slideshow",
  "kernelspec": {
   "display_name": "Python 3 (ipykernel)",
   "language": "python",
   "name": "python3"
  },
  "language_info": {
   "codemirror_mode": {
    "name": "ipython",
    "version": 3
   },
   "file_extension": ".py",
   "mimetype": "text/x-python",
   "name": "python",
   "nbconvert_exporter": "python",
   "pygments_lexer": "ipython3",
   "version": "3.12.11"
  },
  "rise": {
   "center": false,
   "enable_chalkboard": true,
   "transition": "fade"
  },
  "widgets": {
   "application/vnd.jupyter.widget-state+json": {
    "state": {},
    "version_major": 2,
    "version_minor": 0
   }
  }
 },
 "nbformat": 4,
 "nbformat_minor": 4
}
